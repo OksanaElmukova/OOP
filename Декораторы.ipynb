{
  "nbformat": 4,
  "nbformat_minor": 0,
  "metadata": {
    "colab": {
      "name": "Декораторы",
      "provenance": [],
      "collapsed_sections": [],
      "include_colab_link": true
    },
    "kernelspec": {
      "display_name": "Python 3",
      "name": "python3"
    }
  },
  "cells": [
    {
      "cell_type": "markdown",
      "metadata": {
        "id": "view-in-github",
        "colab_type": "text"
      },
      "source": [
        "<a href=\"https://colab.research.google.com/github/OksanaElmukova/OOP/blob/master/%D0%94%D0%B5%D0%BA%D0%BE%D1%80%D0%B0%D1%82%D0%BE%D1%80%D1%8B.ipynb\" target=\"_parent\"><img src=\"https://colab.research.google.com/assets/colab-badge.svg\" alt=\"Open In Colab\"/></a>"
      ]
    },
    {
      "cell_type": "markdown",
      "metadata": {
        "id": "N3hGJA8-EYWd",
        "colab_type": "text"
      },
      "source": [
        "**24.04.2020(Декораторы)**"
      ]
    },
    {
      "cell_type": "markdown",
      "metadata": {
        "id": "wB7bWz26FJrF",
        "colab_type": "text"
      },
      "source": [
        "**Упражнение 1**"
      ]
    },
    {
      "cell_type": "code",
      "metadata": {
        "id": "a9rGfOISKKw2",
        "colab_type": "code",
        "outputId": "f1f23eb0-a7b0-4c0c-c74e-b8e1836b9079",
        "colab": {
          "base_uri": "https://localhost:8080/",
          "height": 35
        }
      },
      "source": [
        "def decorator(functions):\n",
        "  def uslovie(per):\n",
        "    p = functions(per)\n",
        "    if p == 0:\n",
        "      print(\"Нету :(\")\n",
        "    elif p > 10:\n",
        "      print(\"Очень много\")\n",
        "    else:\n",
        "      print(p)\n",
        "  return uslovie\n",
        "\n",
        "@decorator\n",
        "def primes(per):\n",
        "    c = 0\n",
        "    for i in per:       \n",
        "        if i % 2 == 0:    \n",
        "          c += 1                            \n",
        "    return c\n",
        "primes([7, 9, 3])"
      ],
      "execution_count": 0,
      "outputs": [
        {
          "output_type": "stream",
          "text": [
            "Нету :(\n"
          ],
          "name": "stdout"
        }
      ]
    },
    {
      "cell_type": "markdown",
      "metadata": {
        "id": "ha4BoHw1FNTP",
        "colab_type": "text"
      },
      "source": [
        "**Упражнение 2**"
      ]
    },
    {
      "cell_type": "code",
      "metadata": {
        "id": "h5GfrdMVFQLw",
        "colab_type": "code",
        "outputId": "82984eb8-95c8-4873-c2b0-ae5a717e47d4",
        "colab": {
          "base_uri": "https://localhost:8080/",
          "height": 35
        }
      },
      "source": [
        "import math\n",
        "\n",
        "def decorator(functions):\n",
        "  def uslovie(self, other):\n",
        "    p = functions(self, other)\n",
        "    print(\"(\",self.x,\",\",self.y,\"+\", self.x,\",\",other.y,\") =\",\"(\",p.x,\",\",p.y,\")\")\n",
        "  return uslovie\n",
        "\n",
        "class Vector:\n",
        "    def __init__(self, x=0, y=0):\n",
        "        self.x = x\n",
        "        self.y = y\n",
        "    @decorator\n",
        "    def __add__(self, other):\n",
        "        return Vector(self.x + other.x, self.y + other.y)\n",
        "\n",
        "D = Vector(5, 7)\n",
        "S = Vector(3, 8)\n",
        "p = D + S"
      ],
      "execution_count": 0,
      "outputs": [
        {
          "output_type": "stream",
          "text": [
            "( 5 , 7 + 5 , 8 ) = ( 8 , 15 )\n"
          ],
          "name": "stdout"
        }
      ]
    },
    {
      "cell_type": "markdown",
      "metadata": {
        "id": "vJn3paVCFbl0",
        "colab_type": "text"
      },
      "source": [
        "**Пример 1**"
      ]
    },
    {
      "cell_type": "code",
      "metadata": {
        "id": "r6zadSnkFf4b",
        "colab_type": "code",
        "outputId": "24a87a92-1f0c-483d-ac2e-09f5223afb3c",
        "colab": {
          "base_uri": "https://localhost:8080/",
          "height": 253
        }
      },
      "source": [
        "class TestClass:\n",
        "\n",
        "    def __init__(self):\n",
        "        self.public_variable = \"I'm public!\"\n",
        "        self.__private_variable = \"I'm too shy to be public!\"\n",
        "\n",
        "    def get_public_variable(self):\n",
        "        return self.public_variable\n",
        "\n",
        "    def get_private_variable(self):\n",
        "        return self.__private_variable\n",
        "\n",
        "if __name__ == \"__main__\":\n",
        "    test_class = TestClass()\n",
        "    print(\" \".join([\"Public variable:\", test_class.get_public_variable()]))\n",
        "    print(\" \".join([\"Public variable:\", test_class.public_variable]))\n",
        "\n",
        "    print(\" \".join([\"Private variable:\", test_class.get_private_variable()]))\n",
        "    print(\" \".join([\"Private variable:\", test_class._private_variable]))"
      ],
      "execution_count": 0,
      "outputs": [
        {
          "output_type": "stream",
          "text": [
            "Public variable: I'm public!\n",
            "Public variable: I'm public!\n",
            "Private variable: I'm too shy to be public!\n"
          ],
          "name": "stdout"
        },
        {
          "output_type": "error",
          "ename": "AttributeError",
          "evalue": "ignored",
          "traceback": [
            "\u001b[0;31m---------------------------------------------------------------------------\u001b[0m",
            "\u001b[0;31mAttributeError\u001b[0m                            Traceback (most recent call last)",
            "\u001b[0;32m<ipython-input-1-b54941b0f4fd>\u001b[0m in \u001b[0;36m<module>\u001b[0;34m()\u001b[0m\n\u001b[1;32m     17\u001b[0m \u001b[0;34m\u001b[0m\u001b[0m\n\u001b[1;32m     18\u001b[0m     \u001b[0mprint\u001b[0m\u001b[0;34m(\u001b[0m\u001b[0;34m\" \"\u001b[0m\u001b[0;34m.\u001b[0m\u001b[0mjoin\u001b[0m\u001b[0;34m(\u001b[0m\u001b[0;34m[\u001b[0m\u001b[0;34m\"Private variable:\"\u001b[0m\u001b[0;34m,\u001b[0m \u001b[0mtest_class\u001b[0m\u001b[0;34m.\u001b[0m\u001b[0mget_private_variable\u001b[0m\u001b[0;34m(\u001b[0m\u001b[0;34m)\u001b[0m\u001b[0;34m]\u001b[0m\u001b[0;34m)\u001b[0m\u001b[0;34m)\u001b[0m\u001b[0;34m\u001b[0m\u001b[0;34m\u001b[0m\u001b[0m\n\u001b[0;32m---> 19\u001b[0;31m     \u001b[0mprint\u001b[0m\u001b[0;34m(\u001b[0m\u001b[0;34m\" \"\u001b[0m\u001b[0;34m.\u001b[0m\u001b[0mjoin\u001b[0m\u001b[0;34m(\u001b[0m\u001b[0;34m[\u001b[0m\u001b[0;34m\"Private variable:\"\u001b[0m\u001b[0;34m,\u001b[0m \u001b[0mtest_class\u001b[0m\u001b[0;34m.\u001b[0m\u001b[0m_private_variable\u001b[0m\u001b[0;34m]\u001b[0m\u001b[0;34m)\u001b[0m\u001b[0;34m)\u001b[0m\u001b[0;34m\u001b[0m\u001b[0;34m\u001b[0m\u001b[0m\n\u001b[0m",
            "\u001b[0;31mAttributeError\u001b[0m: 'TestClass' object has no attribute '_private_variable'"
          ]
        }
      ]
    },
    {
      "cell_type": "markdown",
      "metadata": {
        "id": "uS3AdyGXFgH4",
        "colab_type": "text"
      },
      "source": [
        "**Пример 2**"
      ]
    },
    {
      "cell_type": "code",
      "metadata": {
        "id": "TiRMcxkrFhjI",
        "colab_type": "code",
        "outputId": "1c22bd3f-6234-432f-b996-0ed564c6261b",
        "colab": {
          "base_uri": "https://localhost:8080/",
          "height": 52
        }
      },
      "source": [
        "class UniversityMember:\n",
        "    passToUniversity = ''\n",
        "    status = True\n",
        "\n",
        "    def checkStatus(self):\n",
        "        return self.status\n",
        "\n",
        "    def dismiss(self):\n",
        "        self.status = False\n",
        "        self.pass_to_university = None\n",
        "\n",
        "class Student(UniversityMember):\n",
        "    group = None\n",
        "\n",
        "class Teacher(UniversityMember):\n",
        "    cathedral = None\n",
        "\n",
        "class Administrator(UniversityMember):\n",
        "    pass\n",
        "\n",
        "p = Administrator()\n",
        "print(p.checkStatus())\n",
        "print(p.dismiss())"
      ],
      "execution_count": 0,
      "outputs": [
        {
          "output_type": "stream",
          "text": [
            "True\n",
            "None\n"
          ],
          "name": "stdout"
        }
      ]
    },
    {
      "cell_type": "markdown",
      "metadata": {
        "id": "NvPSXcaSFiAv",
        "colab_type": "text"
      },
      "source": [
        "**Пример 3**"
      ]
    },
    {
      "cell_type": "code",
      "metadata": {
        "id": "tFTQQ5raFjdJ",
        "colab_type": "code",
        "outputId": "348308d1-961f-4098-eff7-78f272b5f8f8",
        "colab": {
          "base_uri": "https://localhost:8080/",
          "height": 69
        }
      },
      "source": [
        "import datetime\n",
        "\n",
        "class Person:\n",
        "    def __init__(self, name, age):\n",
        "        self.name = name\n",
        "        self.age = age\n",
        "\n",
        "    # classmethod чтобы создать объект по году рождения,\n",
        "    # \"альтернативный\" конструктор\n",
        "    @classmethod\n",
        "    def fromBirthYear(cls, name, year):\n",
        "        return cls(name, datetime.date.today().year - year)\n",
        "\n",
        "    # статический метод,чтобы проверить совершеннолетие\n",
        "    @staticmethod\n",
        "    def isAdult(age):\n",
        "        return age > 18\n",
        "\n",
        "person1 = Person('Петя', 21)\n",
        "person2 = Person.fromBirthYear('Петя', 1996)\n",
        "\n",
        "print(person1.age)\n",
        "print(person2.age)\n",
        "\n",
        "# print the result\n",
        "print(Person.isAdult(22))"
      ],
      "execution_count": 0,
      "outputs": [
        {
          "output_type": "stream",
          "text": [
            "21\n",
            "24\n",
            "True\n"
          ],
          "name": "stdout"
        }
      ]
    }
  ]
}